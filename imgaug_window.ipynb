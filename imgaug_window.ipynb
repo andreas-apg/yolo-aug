{
 "cells": [
  {
   "cell_type": "code",
   "execution_count": 106,
   "metadata": {},
   "outputs": [],
   "source": [
    "import imageio\n",
    "import imgaug as ia\n",
    "import imgaug.augmenters as iaa\n",
    "import glob\n",
    "import numpy as np\n",
    "import pandas as pd\n",
    "import functools\n",
    "import os\n",
    "from imgaug.augmentables.bbs import BoundingBox, BoundingBoxesOnImage\n",
    "from itertools import product\n",
    "\n",
    "%matplotlib inline\n",
    "ia.seed(1)"
   ]
  },
  {
   "cell_type": "code",
   "execution_count": 107,
   "metadata": {},
   "outputs": [],
   "source": [
    "def bb_midpoint_to_corner(bb):\n",
    "    label = bb[0]\n",
    "    x1 = bb[1] - bb[3]/2\n",
    "    x2 = bb[1] + bb[3]/2\n",
    "    y1 = bb[2] - bb[4]/2\n",
    "    y2 = bb[2] + bb[4]/2\n",
    "    corner_list = [label, x1, x2, y1, y2]\n",
    "    return np.array(corner_list)\n",
    "\n",
    "def bb_corner_to_midpoint(bb):\n",
    "    label = bb[0]\n",
    "    x = bb[1] + (bb[2] - bb[1])/2\n",
    "    y = bb[3] + (bb[4] - bb[3])/2\n",
    "    w = bb[2] - bb[1]\n",
    "    h = bb[4] - bb[3]\n",
    "    midpoint_list = [label, x, y, w, h]\n",
    "    return np.array(midpoint_list)\n",
    "\n",
    "def bbs_to_bb(bbs_list, width, height):\n",
    "    try:\n",
    "        corner_list = []\n",
    "        for bbs in bbs_list:\n",
    "            label = bbs.label\n",
    "            x1 = bbs.x1/width\n",
    "            x2 = bbs.x2/width\n",
    "            y1 = bbs.y1/height\n",
    "            y2 = bbs.y2/height\n",
    "            corner_list.append([label, x1, x2, y1, y2])\n",
    "\n",
    "        midpoint_list = np.apply_along_axis(bb_corner_to_midpoint, axis=1, arr=corner_list)\n",
    "        return np.array(midpoint_list)\n",
    "    except Exception as e:\n",
    "        #print(e)\n",
    "        return np.array([])\n",
    "\n",
    "def save_bb_txt(bbs_df, name):\n",
    "    bbs_df.to_csv(name, index = False, header = False, sep = \" \", float_format='%.6f')\n",
    "\n",
    "def open_yolo(image_name, label_path):\n",
    "    try: \n",
    "        image = imageio.imread(image_name)\n",
    "        shape = image.shape\n",
    "        width = shape[1]\n",
    "        height = shape[0]\n",
    "        label = label_path + image_name.split(\"/\")[-1].split(\".\")[0] + \".txt\"\n",
    "        boxes = np.genfromtxt(label, delimiter=' ')\n",
    "        # reshaping the np array is necessary in case a file with a single box is read\n",
    "        boxes = boxes.reshape(boxes.size//5, 5)\n",
    "        #print(boxes.shape)\n",
    "        boxes = np.apply_along_axis(bb_midpoint_to_corner, axis=1, arr=boxes)\n",
    "        bbs = BoundingBoxesOnImage([BoundingBox(x1=list[1]*width, x2=list[2]*width, y1=list[3]*height, y2=list[4]*height, label = int(list[0])) for list in boxes], shape=image.shape)\n",
    "        return image, bbs\n",
    "    except Exception as e:\n",
    "        #print(e)\n",
    "        return None, None\n",
    "\n",
    "def calculate_position(index, factor):\n",
    "    # since the crops are center aligned, the edges (0.0 and 1.0) can't use the same expression\n",
    "    return 1 if index == 0 else 0 if index == (factor - 1) else (1 - index/factor) - 1/(factor*2)"
   ]
  },
  {
   "cell_type": "code",
   "execution_count": 108,
   "metadata": {},
   "outputs": [],
   "source": [
    "image_path = \"../yolo-station/images_bgr/\"\n",
    "label_path = \"../yolo-station/labels_sub/\"\n",
    "\n",
    "image_list = os.path.join(os.path.join(image_path, \"*.*\"))\n",
    "label_list = []\n",
    "\n",
    "image_list = glob.glob(image_list)\n",
    "for name in image_list:\n",
    "    label_list.append(label_path + name.split(\"/\")[-1].split(\".\")[0] + \".txt\")\n"
   ]
  },
  {
   "cell_type": "code",
   "execution_count": 120,
   "metadata": {},
   "outputs": [
    {
     "name": "stdout",
     "output_type": "stream",
     "text": [
      "Number of images: 633\n"
     ]
    },
    {
     "name": "stderr",
     "output_type": "stream",
     "text": [
      "<ipython-input-107-bcfa6df6f874>:46: UserWarning: genfromtxt: Empty input file: \"../yolo-station/labels_sub/FLIR0647.txt\"\n",
      "  boxes = np.genfromtxt(label, delimiter=' ')\n",
      "<ipython-input-107-bcfa6df6f874>:46: UserWarning: genfromtxt: Empty input file: \"../yolo-station/labels_sub/FLIR0224_rgb.txt\"\n",
      "  boxes = np.genfromtxt(label, delimiter=' ')\n"
     ]
    },
    {
     "name": "stdout",
     "output_type": "stream",
     "text": [
      "Number of images with boxes: 630\n",
      "Number of cropped images: 2415\n"
     ]
    }
   ],
   "source": [
    "augmented_count = 0\n",
    "image_count = 0\n",
    "print(\"Number of images: {}\".format(len(image_list)))\n",
    "for im in image_list:\n",
    "    count = 0\n",
    "    image_name = im\n",
    "    #print(image_name)\n",
    "    image, bbs = open_yolo(image_name, label_path)\n",
    "    # if the image or the label file doesn't exist, skip this iteration\n",
    "    if((image is None) or (bbs is None)):\n",
    "        continue\n",
    "    image_count += 1\n",
    "    shape = image.shape\n",
    "    width = shape[1]\n",
    "    height = shape[0]\n",
    "    h_factor = height//480\n",
    "    w_factor = width//640    \n",
    "\n",
    "    xs = [calculate_position(i, w_factor) for i in range(0, w_factor)]\n",
    "    ys = [calculate_position(j, h_factor) for j in range(0, h_factor)]\n",
    "    for y, x in product(xs, ys):\n",
    "        # position tuple: left-right, low-high ranging from 0.0 to 1.0\n",
    "        # only boxes with 40% or more inside the crop are kept\n",
    "        seq = iaa.Sequential([iaa.CropToFixedSize(width=640, height=480, position=(x, y)),\n",
    "                              iaa.RemoveCBAsByOutOfImageFraction(0.6)])\n",
    "        image_aug, bbs_aug = seq(image=image, bounding_boxes=bbs)\n",
    "        bbs_aug = bbs_aug.remove_out_of_image().clip_out_of_image()\n",
    "\n",
    "        #before_image = bbs.draw_on_image(image, size=2)\n",
    "        #after_image = bbs_aug.draw_on_image(image_aug, size=2, color=[0, 0, 255])\n",
    "        #ia.ia.show_grid([before_image, after_image], rows=1, cols=2)\n",
    "\n",
    "        bb = bbs_to_bb(bbs_aug, 640, 480)\n",
    "        # we only want to save the image if it has boxes in it\n",
    "        if (len(bb) > 0):\n",
    "            aug_name = image_name.split(\"/\")[-1].split(\".\")[0]\n",
    "            # saving the image\n",
    "            imageio.imwrite(\"./aug_images/\" + aug_name + \"_aug_\" + str(count) + \".jpg\", image_aug)            \n",
    "            #print(aug_name + \"_aug_\" + str(count))\n",
    "            # saving the YOLO bb file\n",
    "            df_bb = pd.DataFrame(bb, columns = [\"label\", \"x\", \"y\", \"w\", \"h\"])\n",
    "            df_bb[\"label\"] = df_bb[\"label\"].astype(int)\n",
    "            save_bb_txt(df_bb, \"./aug_labels/\" + aug_name + \"_aug_\" + str(count) + \".txt\")\n",
    "            augmented_count += 1\n",
    "        count += 1\n",
    "print(\"Number of images with boxes: {}\".format(image_count))\n",
    "print(\"Number of cropped images: {}\".format(augmented_count))"
   ]
  },
  {
   "cell_type": "code",
   "execution_count": null,
   "metadata": {},
   "outputs": [],
   "source": []
  }
 ],
 "metadata": {
  "kernelspec": {
   "display_name": "Python 3",
   "language": "python",
   "name": "python3"
  },
  "language_info": {
   "codemirror_mode": {
    "name": "ipython",
    "version": 3
   },
   "file_extension": ".py",
   "mimetype": "text/x-python",
   "name": "python",
   "nbconvert_exporter": "python",
   "pygments_lexer": "ipython3",
   "version": "3.9.5"
  },
  "orig_nbformat": 2
 },
 "nbformat": 4,
 "nbformat_minor": 2
}