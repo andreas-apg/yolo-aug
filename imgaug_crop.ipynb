{
 "cells": [
  {
   "cell_type": "code",
   "execution_count": 1,
   "metadata": {},
   "outputs": [],
   "source": [
    "import imageio\n",
    "import imgaug as ia\n",
    "import imgaug.augmenters as iaa\n",
    "import glob\n",
    "import numpy as np\n",
    "import pandas as pd\n",
    "import functools\n",
    "import os\n",
    "from imgaug.augmentables.bbs import BoundingBox, BoundingBoxesOnImage\n",
    "from itertools import product\n",
    "\n",
    "%matplotlib inline\n",
    "ia.seed(1)"
   ]
  },
  {
   "cell_type": "code",
   "execution_count": 5,
   "metadata": {},
   "outputs": [],
   "source": [
    "def bb_midpoint_to_corner(bb):\n",
    "    label = bb[0]\n",
    "    x1 = bb[1] - bb[3]/2\n",
    "    x2 = bb[1] + bb[3]/2\n",
    "    y1 = bb[2] - bb[4]/2\n",
    "    y2 = bb[2] + bb[4]/2\n",
    "    corner_list = [label, x1, x2, y1, y2]\n",
    "    return np.array(corner_list)\n",
    "\n",
    "def bb_corner_to_midpoint(bb):\n",
    "    label = bb[0]\n",
    "    x = bb[1] + (bb[2] - bb[1])/2\n",
    "    y = bb[3] + (bb[4] - bb[3])/2\n",
    "    w = bb[2] - bb[1]\n",
    "    h = bb[4] - bb[3]\n",
    "    midpoint_list = [label, x, y, w, h]\n",
    "    return np.array(midpoint_list)\n",
    "\n",
    "def bbs_to_bb(bbs_list, width, height):\n",
    "    try:\n",
    "        corner_list = []\n",
    "        for bbs in bbs_list:\n",
    "            label = bbs.label\n",
    "            x1 = bbs.x1/width\n",
    "            x2 = bbs.x2/width\n",
    "            y1 = bbs.y1/height\n",
    "            y2 = bbs.y2/height\n",
    "            corner_list.append([label, x1, x2, y1, y2])\n",
    "\n",
    "        midpoint_list = np.apply_along_axis(bb_corner_to_midpoint, axis=1, arr=corner_list)\n",
    "        return np.array(midpoint_list)\n",
    "    except Exception as e:\n",
    "        #print(e)\n",
    "        return np.array([])\n",
    "\n",
    "def save_bb_txt(bbs_df, name):\n",
    "    bbs_df.to_csv(name, index = False, header = False, sep = \" \", float_format='%.6f')\n",
    "\n",
    "def open_yolo(image_name, label_path):\n",
    "    try: \n",
    "        image = imageio.imread(image_name)\n",
    "        shape = image.shape\n",
    "        width = shape[1]\n",
    "        height = shape[0]\n",
    "        label = label_path + image_name.split(\"/\")[-1].split(\".\")[0] + \".txt\"\n",
    "        boxes = np.genfromtxt(label, delimiter=' ')\n",
    "        bb = boxes\n",
    "        # reshaping the np array is necessary in case a file with a single box is read\n",
    "        boxes = boxes.reshape(boxes.size//5, 5)\n",
    "        #print(boxes.shape)\n",
    "        boxes = np.apply_along_axis(bb_midpoint_to_corner, axis=1, arr=boxes)\n",
    "        bbs = BoundingBoxesOnImage([BoundingBox(x1=list[1]*width, x2=list[2]*width, y1=list[3]*height, y2=list[4]*height, label = int(list[0])) for list in boxes], shape=image.shape)\n",
    "        return image, bbs, bb\n",
    "    except Exception as e:\n",
    "        #print(e)\n",
    "        return None, None\n",
    "\n",
    "def calculate_position(index, factor):\n",
    "    # since the crops are center aligned, the edges (0.0 and 1.0) can't use the same expression\n",
    "    return 1 if index == 0 else 0 if index == (factor - 1) else (1 - index/factor) - 1/(factor*2)"
   ]
  },
  {
   "cell_type": "code",
   "execution_count": 3,
   "metadata": {},
   "outputs": [],
   "source": [
    "image_path = \"../yolo-station/images_bgr/\"\n",
    "label_path = \"../yolo-station/labels_sub/\"\n",
    "\n",
    "image_list = os.path.join(os.path.join(image_path, \"*.*\"))\n",
    "label_list = []\n",
    "\n",
    "image_list = glob.glob(image_list)\n",
    "for name in image_list:\n",
    "    label_list.append(label_path + name.split(\"/\")[-1].split(\".\")[0] + \".txt\")\n"
   ]
  },
  {
   "cell_type": "code",
   "execution_count": 18,
   "metadata": {},
   "outputs": [
    {
     "name": "stdout",
     "output_type": "stream",
     "text": [
      "\n"
     ]
    }
   ],
   "source": [
    "import networkx as nx\n",
    "\n",
    "bb_graph = nx.Graph()\n",
    "print(bb_graph)\n"
   ]
  },
  {
   "cell_type": "code",
   "execution_count": 143,
   "metadata": {},
   "outputs": [],
   "source": [
    "def intersection_over_union(box1, box2):\n",
    "    \"\"\"\n",
    "    Video explanation of this function:\n",
    "    https://youtu.be/XXYG5ZWtjj0\n",
    "    This function calculates intersection over union (iou) given two\n",
    "    bounding boxes.\n",
    "    Parameters:\n",
    "        box1 (dict): Predictions of Bounding Boxes (BATCH_SIZE, 4)\n",
    "        box2 (dict): Correct labels of Bounding Boxes (BATCH_SIZE, 4)\n",
    "        box_format (str): midpoint/corners, if boxes (x,y,w,h) or (x1,y1,x2,y2)\n",
    "    Returns:\n",
    "        float: Intersection over union for all examples\n",
    "    \"\"\"\n",
    "\n",
    "    box1_x1 = box1[\"x\"] - box1[\"w\"]/2\n",
    "    box1_y1 = box1[\"y\"] - box1[\"h\"]/2\n",
    "    box1_x2 = box1[\"x\"] + box1[\"w\"]/2\n",
    "    box1_y2 = box1[\"y\"] + box1[\"h\"]/2\n",
    "    box2_x1 = box2[\"x\"] - box2[\"w\"]/2\n",
    "    box2_y1 = box2[\"y\"] - box2[\"h\"]/2\n",
    "    box2_x2 = box2[\"x\"] + box2[\"w\"]/2\n",
    "    box2_y2 = box2[\"y\"] + box2[\"h\"]/2\n",
    "\n",
    "    x1 = max(box1_x1, box2_x1)\n",
    "    y1 = max(box1_y1, box2_y1)\n",
    "    x2 = min(box1_x2, box2_x2)\n",
    "    y2 = min(box1_y2, box2_y2)\n",
    "\n",
    "    intersection = (x2 - x1) * (y2 - y1)\n",
    "    box1_area = abs((box1_x2 - box1_x1) * (box1_y2 - box1_y1))\n",
    "    box2_area = abs((box2_x2 - box2_x1) * (box2_y2 - box2_y1))\n",
    "    union = (box1_area + box2_area - intersection)\n",
    "\n",
    "    return box1_area, box2_area, intersection, union, intersection / union\n",
    "\n",
    "def intersection(box1, box2):\n",
    "    \"\"\"\n",
    "    Video explanation of this function:\n",
    "    https://youtu.be/XXYG5ZWtjj0\n",
    "    This function calculates intersection over union (iou) given two\n",
    "    bounding boxes.\n",
    "    Parameters:\n",
    "        box1 (dict): Predictions of Bounding Boxes\n",
    "        box2 (dict): Correct labels of Bounding Boxes\n",
    "    Returns:\n",
    "        float: the area of the first box\n",
    "        float: the area of the second box\n",
    "        float: Intersection of the two boxes\n",
    "    \"\"\"\n",
    "    box1_x1 = box1[\"x\"] - box1[\"w\"]/2\n",
    "    box1_y1 = box1[\"y\"] - box1[\"h\"]/2\n",
    "    box1_x2 = box1[\"x\"] + box1[\"w\"]/2\n",
    "    box1_y2 = box1[\"y\"] + box1[\"h\"]/2\n",
    "    box2_x1 = box2[\"x\"] - box2[\"w\"]/2\n",
    "    box2_y1 = box2[\"y\"] - box2[\"h\"]/2\n",
    "    box2_x2 = box2[\"x\"] + box2[\"w\"]/2\n",
    "    box2_y2 = box2[\"y\"] + box2[\"h\"]/2\n",
    "\n",
    "    x1 = max(box1_x1, box2_x1)\n",
    "    y1 = max(box1_y1, box2_y1)\n",
    "    x2 = min(box1_x2, box2_x2)\n",
    "    y2 = min(box1_y2, box2_y2)\n",
    "\n",
    "    intersection = (x2 - x1) * (y2 - y1)\n",
    "    box1_area = abs((box1_x2 - box1_x1) * (box1_y2 - box1_y1))\n",
    "    box2_area = abs((box2_x2 - box2_x1) * (box2_y2 - box2_y1))\n",
    "\n",
    "    return box1_area, box2_area, intersection"
   ]
  },
  {
   "cell_type": "code",
   "execution_count": 237,
   "metadata": {},
   "outputs": [
    {
     "name": "stdout",
     "output_type": "stream",
     "text": [
      "[(0, {'x': 692.0, 'y': 657.0, 'w': 390.0, 'h': 487.0}), (1, {'x': 343.0, 'y': 893.0, 'w': 116.0, 'h': 133.0}), (2, {'x': 176.0, 'y': 106.0, 'w': 98.0, 'h': 199.0}), (3, {'x': 552.0, 'y': 757.0, 'w': 101.0, 'h': 106.0}), (4, {'x': 367.0, 'y': 575.0, 'w': 40.0, 'h': 70.0}), (5, {'x': 221.0, 'y': 540.0, 'w': 40.0, 'h': 70.0}), (6, {'x': 482.0, 'y': 601.0, 'w': 37.0, 'h': 67.0}), (7, {'x': 516.0, 'y': 763.0, 'w': 128.0, 'h': 102.0})]\n"
     ]
    }
   ],
   "source": [
    "for im in image_list[0:1]:\n",
    "    count = 0\n",
    "    image_name = im\n",
    "    #print(image_name)\n",
    "    image, bbs, bb = open_yolo(image_name, label_path)\n",
    "    shape = image.shape\n",
    "    width = shape[1]\n",
    "    height = shape[0]\n",
    "    h_factor = height//480\n",
    "    w_factor = width//640\n",
    "    bb_graph = nx.Graph()\n",
    "    count = 0\n",
    "    for box in bb:\n",
    "        box[1] = int(box[1] * width)\n",
    "        box[2] = int(box[2] * height)\n",
    "        box[3] = int(box[3] * width)\n",
    "        box[4] = int(box[4] * height)\n",
    "        bb_graph.add_node(count, x = box[1], y = box[2], w = box[3], h = box[4])\n",
    "        count +=1\n",
    "    print(bb_graph.nodes.data())\n",
    "\n",
    "    "
   ]
  },
  {
   "cell_type": "code",
   "execution_count": 238,
   "metadata": {},
   "outputs": [
    {
     "name": "stdout",
     "output_type": "stream",
     "text": [
      "19502.0 19502.0\n",
      "1.0\n",
      "10706.0 10706.0\n",
      "1.0\n",
      "10706.0 10706.0\n",
      "1.0\n",
      "10706.0 10706.0\n",
      "1.0\n",
      "2800.0 2800.0\n",
      "1.0\n",
      "2800.0 2800.0\n",
      "1.0\n",
      "2800.0 2800.0\n",
      "1.0\n",
      "2800.0 2800.0\n",
      "1.0\n",
      "2479.0 2479.0\n",
      "1.0\n",
      "2479.0 2479.0\n",
      "1.0\n",
      "2479.0 2479.0\n",
      "1.0\n",
      "13056.0 13056.0\n",
      "1.0\n",
      "13056.0 13056.0\n",
      "1.0\n",
      "13056.0 13056.0\n",
      "1.0\n"
     ]
    }
   ],
   "source": [
    "    for j, i in product(bb_graph.nodes, bb_graph.nodes):\n",
    "        if(i != j):\n",
    "            x = bb_graph.nodes[i][\"x\"]\n",
    "            y = bb_graph.nodes[i][\"y\"]\n",
    "            if(x + 640//2 > width):\n",
    "                x = x - (width - 640//2)\n",
    "            elif(x - 640//2 < 0):\n",
    "                x = x + (640//2 - x)\n",
    "            if(y + 480//2 > height):\n",
    "                y = y - (height - 480//2)\n",
    "            elif(y - 480//2 < 0):\n",
    "                y = y + (480//2 - y)\n",
    "            area1, area2, inter = intersection({\n",
    "                                        \"x\": x, \n",
    "                                        \"y\": y,\n",
    "                                        \"w\": 640,\n",
    "                                        \"h\": 480\n",
    "                                        },\n",
    "                                        bb_graph.nodes[j])\n",
    "            # we only care if the candidate box j is at least 75% inside the crop window\n",
    "            if(area2*0.75 <= inter <= area2):\n",
    "                bb_graph.add_edge(i,j)\n",
    "                print(inter, area2)\n",
    "                bb_graph[i][j]['weight'] = inter/area2\n",
    "                print(inter/area2)\n",
    "                #print(bb_graph.nodes[i])\n",
    "                #print(bb_graph.nodes[j])\n",
    "                #print(area2 - inter)\n",
    "                #print(\"Area1: {}, Area2: {}, Inter: {}\".format(area1, area2, inter))             "
   ]
  },
  {
   "cell_type": "code",
   "execution_count": 201,
   "metadata": {},
   "outputs": [
    {
     "name": "stdout",
     "output_type": "stream",
     "text": [
      "11\n",
      "[('0', '3'), ('0', '6'), ('0', '7'), ('1', '2'), ('3', '4'), ('3', '6'), ('4', '5'), ('4', '6'), ('4', '7'), ('5', '6'), ('6', '7')]\n",
      "Neighbors of 0: ['3', '6', '7']\n",
      "Neighbors of 1: ['2']\n",
      "Neighbors of 2: ['1']\n",
      "Neighbors of 3: ['0', '4', '6']\n",
      "Neighbors of 4: ['3', '5', '6', '7']\n",
      "Neighbors of 5: ['4', '6']\n",
      "Neighbors of 6: ['3', '4', '5', '0', '7']\n",
      "Neighbors of 7: ['0', '4', '6']\n"
     ]
    }
   ],
   "source": [
    "print(bb_graph.number_of_edges())\n",
    "print(bb_graph.edges())\n",
    "for node in bb_graph.nodes:\n",
    "    print(\"Neighbors of {}: {}\".format(node, [n for n in bb_graph.neighbors(node)]))"
   ]
  },
  {
   "cell_type": "code",
   "execution_count": null,
   "metadata": {},
   "outputs": [],
   "source": [
    "print(bb_graph.number_of_edges())\n",
    "print(bb_graph.edges())\n",
    "for node in bb_graph.nodes:\n",
    "    print(\"Neighbors of {}: {}\".format(node, [n for n in bb_graph.neighbors(node)]))"
   ]
  },
  {
   "cell_type": "code",
   "execution_count": 239,
   "metadata": {},
   "outputs": [
    {
     "data": {
      "text/plain": "{0: Text(44.736, 18.0, '0'),\n 1: Text(192.0, 163.64, '1'),\n 2: Text(263.21, 153.0, '2'),\n 3: Text(122.2, 20.468, '3'),\n 4: Text(127.02, 97.376, '4'),\n 5: Text(107.19, 159.37, '5'),\n 6: Text(80.838, 79.519, '6'),\n 7: Text(27.0, 91.061, '7')}"
     },
     "execution_count": 239,
     "metadata": {},
     "output_type": "execute_result"
    },
    {
     "data": {
      "image/png": "[encoded data removed]",
      "text/plain": "<Figure size 432x288 with 1 Axes>"
     },
     "metadata": {},
     "output_type": "display_data"
    }
   ],
   "source": [
    "from networkx.drawing.nx_agraph import graphviz_layout\n",
    "import matplotlib.pyplot as plt\n",
    "\n",
    "pos = graphviz_layout(bb_graph)\n",
    "plt.axis('off')\n",
    "nx.draw_networkx_nodes(bb_graph,pos,node_color='g',alpha = 0.8)  # draws nodes\n",
    "nx.draw_networkx_edges(bb_graph,pos,edge_color='b',alpha = 0.6)  # draws edges\n",
    "nx.draw_networkx_edge_labels(bb_graph,pos,edge_labels = nx.get_edge_attributes(bb_graph,'weight')) # edge lables\n",
    "nx.draw_networkx_labels(bb_graph,pos) # node lables"
   ]
  },
  {
   "cell_type": "code",
   "execution_count": 282,
   "metadata": {},
   "outputs": [
    {
     "name": "stdout",
     "output_type": "stream",
     "text": [
      "Graph 0:\n",
      "Neighbors of 0: [3, 6, 7]\n",
      "Neighbors of 3: [0, 4, 6]\n",
      "Neighbors of 4: [3, 5, 6, 7]\n",
      "Neighbors of 5: [4, 6]\n",
      "Neighbors of 6: [3, 4, 5, 0, 7]\n",
      "Neighbors of 7: [0, 4, 6]\n",
      "Node 6 is the most popular, with 5 neighbors.\n",
      "Node coordinates: {'x': 482.0, 'y': 601.0, 'w': 37.0, 'h': 67.0}\n",
      "Graph 1:\n",
      "Neighbors of 1: [2]\n",
      "Neighbors of 2: [1]\n",
      "Node 1 is the most popular, with 1 neighbors.\n",
      "Node coordinates: {'x': 343.0, 'y': 893.0, 'w': 116.0, 'h': 133.0}\n",
      "[{'x': 482.0, 'y': 601.0, 'w': 37.0, 'h': 67.0}, {'x': 343.0, 'y': 893.0, 'w': 116.0, 'h': 133.0}]\n"
     ]
    }
   ],
   "source": [
    "# greedy answer: we will separate the connected subgraphs and get the node with most neighbors of each\n",
    "bb_subgraphs = (bb_graph.subgraph(c) for c in nx.connected_components(bb_graph))\n",
    "count = 0\n",
    "crops = []\n",
    "for sub in bb_subgraphs:\n",
    "    print(\"Graph {}:\".format(count))\n",
    "    neighbors = {}\n",
    "    for node in sub.nodes:\n",
    "        print(\"Neighbors of {}: {}\".format(node, [n for n in sub.neighbors(node)]))\n",
    "        neighbors[node] = [n for n in sub.neighbors(node)]\n",
    "    most_neighbors = max(len(item) for item in neighbors.values())\n",
    "    popular_node = [index for index in neighbors if len(neighbors[index]) == most_neighbors][0]\n",
    "    crops.append(sub.nodes[popular_node])\n",
    "    print(\"Node {} is the most popular, with {} neighbors.\".format(popular_node, most_neighbors))\n",
    "    print(\"Node coordinates: \" + str(sub.nodes[popular_node]))\n",
    "    count+=1\n",
    "\n",
    "print(crops)"
   ]
  },
  {
   "cell_type": "code",
   "execution_count": 262,
   "metadata": {},
   "outputs": [
    {
     "ename": "AttributeError",
     "evalue": "'set' object has no attribute 'nodes'",
     "output_type": "error",
     "traceback": [
      "\u001b[0;31m---------------------------------------------------------------------------\u001b[0m",
      "\u001b[0;31mAttributeError\u001b[0m                            Traceback (most recent call last)",
      "\u001b[0;32m<ipython-input-262-6d9b0aab844f>\u001b[0m in \u001b[0;36m<module>\u001b[0;34m\u001b[0m\n\u001b[1;32m      1\u001b[0m \u001b[0;32mfor\u001b[0m \u001b[0msub\u001b[0m \u001b[0;32min\u001b[0m \u001b[0mconnected_bb_subgraphs\u001b[0m\u001b[0;34m:\u001b[0m\u001b[0;34m\u001b[0m\u001b[0;34m\u001b[0m\u001b[0m\n\u001b[1;32m      2\u001b[0m     \u001b[0mneighbors\u001b[0m \u001b[0;34m=\u001b[0m \u001b[0;34m{\u001b[0m\u001b[0;34m}\u001b[0m\u001b[0;34m\u001b[0m\u001b[0;34m\u001b[0m\u001b[0m\n\u001b[0;32m----> 3\u001b[0;31m     \u001b[0;32mfor\u001b[0m \u001b[0mnode\u001b[0m \u001b[0;32min\u001b[0m \u001b[0msub\u001b[0m\u001b[0;34m.\u001b[0m\u001b[0mnodes\u001b[0m\u001b[0;34m:\u001b[0m\u001b[0;34m\u001b[0m\u001b[0;34m\u001b[0m\u001b[0m\n\u001b[0m\u001b[1;32m      4\u001b[0m         \u001b[0mneighbors\u001b[0m\u001b[0;34m[\u001b[0m\u001b[0mnode\u001b[0m\u001b[0;34m]\u001b[0m \u001b[0;34m=\u001b[0m \u001b[0;34m[\u001b[0m\u001b[0mn\u001b[0m \u001b[0;32mfor\u001b[0m \u001b[0mn\u001b[0m \u001b[0;32min\u001b[0m \u001b[0mbb_graph\u001b[0m\u001b[0;34m.\u001b[0m\u001b[0mneighbors\u001b[0m\u001b[0;34m(\u001b[0m\u001b[0mnode\u001b[0m\u001b[0;34m)\u001b[0m\u001b[0;34m]\u001b[0m\u001b[0;34m\u001b[0m\u001b[0;34m\u001b[0m\u001b[0m\n\u001b[1;32m      5\u001b[0m         \u001b[0mmost_neighbors\u001b[0m \u001b[0;34m=\u001b[0m \u001b[0mmax\u001b[0m\u001b[0;34m(\u001b[0m\u001b[0mlen\u001b[0m\u001b[0;34m(\u001b[0m\u001b[0mitem\u001b[0m\u001b[0;34m)\u001b[0m \u001b[0;32mfor\u001b[0m \u001b[0mitem\u001b[0m \u001b[0;32min\u001b[0m \u001b[0mneighbors\u001b[0m\u001b[0;34m.\u001b[0m\u001b[0mvalues\u001b[0m\u001b[0;34m(\u001b[0m\u001b[0;34m)\u001b[0m\u001b[0;34m)\u001b[0m\u001b[0;34m\u001b[0m\u001b[0;34m\u001b[0m\u001b[0m\n",
      "\u001b[0;31mAttributeError\u001b[0m: 'set' object has no attribute 'nodes'"
     ]
    }
   ],
   "source": [
    "for sub in connected_bb_subgraphs:\n",
    "    neighbors = {}\n",
    "    for node in sub.nodes:\n",
    "        neighbors[node] = [n for n in bb_graph.neighbors(node)]\n",
    "        most_neighbors = max(len(item) for item in neighbors.values())\n",
    "        print(most_neighbors)"
   ]
  },
  {
   "cell_type": "code",
   "execution_count": 258,
   "metadata": {},
   "outputs": [
    {
     "name": "stdout",
     "output_type": "stream",
     "text": [
      "5\n",
      "Node 6 with neighbors [3, 4, 5, 0, 7].\n",
      "[6, 3, 4, 5, 0, 7]\n"
     ]
    }
   ],
   "source": [
    "neighbors = {}\n",
    "for node in bb_graph.nodes:\n",
    "    neighbors[node] = [n for n in bb_graph.neighbors(node)]\n",
    "\n",
    "most_neighbors = max(len(item) for item in neighbors.values())\n",
    "print(most_neighbors)\n",
    "popular_node = [index for index in neighbors if len(neighbors[index]) == most_neighbors][0]\n",
    "accounted_nodes = []\n",
    "accounted_nodes.append(popular_node)\n",
    "for n in neighbors[popular_node]:\n",
    "    accounted_nodes.append(n)\n",
    "print(\"Node {} with neighbors {}.\".format(popular_node, neighbors[popular_node]))\n",
    "print(accounted_nodes)\n"
   ]
  },
  {
   "cell_type": "code",
   "execution_count": 224,
   "metadata": {},
   "outputs": [
    {
     "ename": "NameError",
     "evalue": "name 'key' is not defined",
     "output_type": "error",
     "traceback": [
      "\u001b[0;31m---------------------------------------------------------------------------\u001b[0m",
      "\u001b[0;31mNameError\u001b[0m                                 Traceback (most recent call last)",
      "\u001b[0;32m<ipython-input-225-661ecfa76363>\u001b[0m in \u001b[0;36m<module>\u001b[0;34m\u001b[0m\n\u001b[1;32m      5\u001b[0m \u001b[0;31m# find the node with the most neighbors in the list\u001b[0m\u001b[0;34m\u001b[0m\u001b[0;34m\u001b[0m\u001b[0;34m\u001b[0m\u001b[0m\n\u001b[1;32m      6\u001b[0m \u001b[0mmost_neighbors\u001b[0m \u001b[0;34m=\u001b[0m \u001b[0mmax\u001b[0m\u001b[0;34m(\u001b[0m\u001b[0mlen\u001b[0m\u001b[0;34m(\u001b[0m\u001b[0mitem\u001b[0m\u001b[0;34m)\u001b[0m \u001b[0;32mfor\u001b[0m \u001b[0mitem\u001b[0m \u001b[0;32min\u001b[0m \u001b[0mneighbors\u001b[0m\u001b[0;34m.\u001b[0m\u001b[0mvalues\u001b[0m\u001b[0;34m(\u001b[0m\u001b[0;34m)\u001b[0m\u001b[0;34m)\u001b[0m\u001b[0;34m\u001b[0m\u001b[0;34m\u001b[0m\u001b[0m\n\u001b[0;32m----> 7\u001b[0;31m \u001b[0mpopular_node\u001b[0m \u001b[0;34m=\u001b[0m \u001b[0;34m[\u001b[0m\u001b[0mnode\u001b[0m\u001b[0;34m[\u001b[0m\u001b[0mkey\u001b[0m\u001b[0;34m,\u001b[0m \u001b[0mvalue\u001b[0m\u001b[0;34m]\u001b[0m \u001b[0;32mfor\u001b[0m \u001b[0mnode\u001b[0m\u001b[0;34m[\u001b[0m\u001b[0mkey\u001b[0m\u001b[0;34m,\u001b[0m \u001b[0mvalue\u001b[0m\u001b[0;34m]\u001b[0m \u001b[0;32min\u001b[0m \u001b[0mneighbors\u001b[0m \u001b[0;32mif\u001b[0m \u001b[0mlen\u001b[0m\u001b[0;34m(\u001b[0m\u001b[0mnode\u001b[0m\u001b[0;34m[\u001b[0m\u001b[0mkey\u001b[0m\u001b[0;34m,\u001b[0m \u001b[0mvalue\u001b[0m\u001b[0;34m]\u001b[0m\u001b[0;34m)\u001b[0m \u001b[0;34m==\u001b[0m \u001b[0mmost_neighbors\u001b[0m\u001b[0;34m]\u001b[0m\u001b[0;34m\u001b[0m\u001b[0;34m\u001b[0m\u001b[0m\n\u001b[0m\u001b[1;32m      8\u001b[0m \u001b[0mprint\u001b[0m\u001b[0;34m(\u001b[0m\u001b[0mpopular_node\u001b[0m\u001b[0;34m[\u001b[0m\u001b[0;36m0\u001b[0m\u001b[0;34m]\u001b[0m\u001b[0;34m)\u001b[0m\u001b[0;34m\u001b[0m\u001b[0;34m\u001b[0m\u001b[0m\n\u001b[1;32m      9\u001b[0m \u001b[0;31m# get the index of this node\u001b[0m\u001b[0;34m\u001b[0m\u001b[0;34m\u001b[0m\u001b[0;34m\u001b[0m\u001b[0m\n",
      "\u001b[0;32m<ipython-input-225-661ecfa76363>\u001b[0m in \u001b[0;36m<listcomp>\u001b[0;34m(.0)\u001b[0m\n\u001b[1;32m      5\u001b[0m \u001b[0;31m# find the node with the most neighbors in the list\u001b[0m\u001b[0;34m\u001b[0m\u001b[0;34m\u001b[0m\u001b[0;34m\u001b[0m\u001b[0m\n\u001b[1;32m      6\u001b[0m \u001b[0mmost_neighbors\u001b[0m \u001b[0;34m=\u001b[0m \u001b[0mmax\u001b[0m\u001b[0;34m(\u001b[0m\u001b[0mlen\u001b[0m\u001b[0;34m(\u001b[0m\u001b[0mitem\u001b[0m\u001b[0;34m)\u001b[0m \u001b[0;32mfor\u001b[0m \u001b[0mitem\u001b[0m \u001b[0;32min\u001b[0m \u001b[0mneighbors\u001b[0m\u001b[0;34m.\u001b[0m\u001b[0mvalues\u001b[0m\u001b[0;34m(\u001b[0m\u001b[0;34m)\u001b[0m\u001b[0;34m)\u001b[0m\u001b[0;34m\u001b[0m\u001b[0;34m\u001b[0m\u001b[0m\n\u001b[0;32m----> 7\u001b[0;31m \u001b[0mpopular_node\u001b[0m \u001b[0;34m=\u001b[0m \u001b[0;34m[\u001b[0m\u001b[0mnode\u001b[0m\u001b[0;34m[\u001b[0m\u001b[0mkey\u001b[0m\u001b[0;34m,\u001b[0m \u001b[0mvalue\u001b[0m\u001b[0;34m]\u001b[0m \u001b[0;32mfor\u001b[0m \u001b[0mnode\u001b[0m\u001b[0;34m[\u001b[0m\u001b[0mkey\u001b[0m\u001b[0;34m,\u001b[0m \u001b[0mvalue\u001b[0m\u001b[0;34m]\u001b[0m \u001b[0;32min\u001b[0m \u001b[0mneighbors\u001b[0m \u001b[0;32mif\u001b[0m \u001b[0mlen\u001b[0m\u001b[0;34m(\u001b[0m\u001b[0mnode\u001b[0m\u001b[0;34m[\u001b[0m\u001b[0mkey\u001b[0m\u001b[0;34m,\u001b[0m \u001b[0mvalue\u001b[0m\u001b[0;34m]\u001b[0m\u001b[0;34m)\u001b[0m \u001b[0;34m==\u001b[0m \u001b[0mmost_neighbors\u001b[0m\u001b[0;34m]\u001b[0m\u001b[0;34m\u001b[0m\u001b[0;34m\u001b[0m\u001b[0m\n\u001b[0m\u001b[1;32m      8\u001b[0m \u001b[0mprint\u001b[0m\u001b[0;34m(\u001b[0m\u001b[0mpopular_node\u001b[0m\u001b[0;34m[\u001b[0m\u001b[0;36m0\u001b[0m\u001b[0;34m]\u001b[0m\u001b[0;34m)\u001b[0m\u001b[0;34m\u001b[0m\u001b[0;34m\u001b[0m\u001b[0m\n\u001b[1;32m      9\u001b[0m \u001b[0;31m# get the index of this node\u001b[0m\u001b[0;34m\u001b[0m\u001b[0;34m\u001b[0m\u001b[0;34m\u001b[0m\u001b[0m\n",
      "\u001b[0;31mNameError\u001b[0m: name 'key' is not defined"
     ]
    }
   ],
   "source": [
    "neighbors = {}\n",
    "for node in bb_graph.nodes:\n",
    "    neighbors[node] = [n for n in bb_graph.neighbors(node)]\n",
    "\n",
    "# find the node with the most neighbors in the list\n",
    "most_neighbors = max(len(item) for item in neighbors.values())\n",
    "popular_node = [[key, value] for [key, value] in neighbors if len([key, value]) == most_neighbors]\n",
    "print(popular_node[0])\n",
    "# get the index of this node\n",
    "#big_index = neighbors.index(big_neighbor)\n",
    "# pop node with the most neighbors from the list of nodes\n",
    "#bb_graph.remove_node(big_index)\n",
    "#print(\"Box {} has the most neighbours: {}\".format(big_neighbor))\n",
    "print(neighbors)\n",
    "# remove all nodes that had this removed node as a neighbor\n"
   ]
  },
  {
   "cell_type": "code",
   "execution_count": 205,
   "metadata": {},
   "outputs": [
    {
     "name": "stdout",
     "output_type": "stream",
     "text": [
      "Neighbors of 0: ['3', '6', '7']\n",
      "Neighbors of 1: ['2']\n",
      "Neighbors of 2: ['1']\n",
      "Neighbors of 3: ['0', '4', '6']\n",
      "Neighbors of 4: ['3', '5', '6', '7']\n",
      "Neighbors of 5: ['4', '6']\n",
      "Neighbors of 6: ['3', '4', '5', '0', '7']\n",
      "Neighbors of 7: ['0', '4', '6']\n"
     ]
    }
   ],
   "source": [
    "for node in bb_graph.nodes:\n",
    "    print(\"Neighbors of {}: {}\".format(node, [n for n in bb_graph.neighbors(node)]))"
   ]
  },
  {
   "cell_type": "code",
   "execution_count": 196,
   "metadata": {},
   "outputs": [
    {
     "name": "stdout",
     "output_type": "stream",
     "text": [
      "{0, 3, 4, 5, 6, 7}\n"
     ]
    }
   ],
   "source": []
  },
  {
   "cell_type": "code",
   "execution_count": null,
   "metadata": {},
   "outputs": [],
   "source": [
    "cropped_boxes = big_neighbor\n"
   ]
  },
  {
   "cell_type": "code",
   "execution_count": 166,
   "metadata": {},
   "outputs": [
    {
     "name": "stdout",
     "output_type": "stream",
     "text": [
      "[[1, 2], [6, 0, 3], [6, 0, 7], [6, 4, 3], [6, 4, 5], [6, 4, 7]]\n",
      "[[1, 2], [6, 0, 3], [6, 0, 7], [6, 4, 5], [6, 4, 7]]\n",
      "[6, 4, 3]\n"
     ]
    }
   ],
   "source": [
    "cliques = [n for n in nx.find_cliques(bb_graph)]\n",
    "print(cliques)\n",
    "\n",
    "big_clique = max(len(c) for c in cliques)\n",
    "big_clique = max(cliques, key=len)\n",
    "big_clique_crop = \n",
    "big_clique = cliques.remove(big_clique)\n",
    "print(cliques)\n",
    "print(big_clique)\n"
   ]
  },
  {
   "cell_type": "code",
   "execution_count": 171,
   "metadata": {},
   "outputs": [
    {
     "ename": "NetworkXError",
     "evalue": "The node 6 is not in the graph.",
     "output_type": "error",
     "traceback": [
      "\u001b[0;31m---------------------------------------------------------------------------\u001b[0m",
      "\u001b[0;31mKeyError\u001b[0m                                  Traceback (most recent call last)",
      "\u001b[0;32m~/miniconda3/envs/imagens/lib/python3.9/site-packages/networkx/classes/graph.py\u001b[0m in \u001b[0;36mremove_node\u001b[0;34m(self, n)\u001b[0m\n\u001b[1;32m    612\u001b[0m         \u001b[0;32mtry\u001b[0m\u001b[0;34m:\u001b[0m\u001b[0;34m\u001b[0m\u001b[0;34m\u001b[0m\u001b[0m\n\u001b[0;32m--> 613\u001b[0;31m             \u001b[0mnbrs\u001b[0m \u001b[0;34m=\u001b[0m \u001b[0mlist\u001b[0m\u001b[0;34m(\u001b[0m\u001b[0madj\u001b[0m\u001b[0;34m[\u001b[0m\u001b[0mn\u001b[0m\u001b[0;34m]\u001b[0m\u001b[0;34m)\u001b[0m  \u001b[0;31m# list handles self-loops (allows mutation)\u001b[0m\u001b[0;34m\u001b[0m\u001b[0;34m\u001b[0m\u001b[0m\n\u001b[0m\u001b[1;32m    614\u001b[0m             \u001b[0;32mdel\u001b[0m \u001b[0mself\u001b[0m\u001b[0;34m.\u001b[0m\u001b[0m_node\u001b[0m\u001b[0;34m[\u001b[0m\u001b[0mn\u001b[0m\u001b[0;34m]\u001b[0m\u001b[0;34m\u001b[0m\u001b[0;34m\u001b[0m\u001b[0m\n",
      "\u001b[0;31mKeyError\u001b[0m: 6",
      "\nThe above exception was the direct cause of the following exception:\n",
      "\u001b[0;31mNetworkXError\u001b[0m                             Traceback (most recent call last)",
      "\u001b[0;32m<ipython-input-171-9ada8e5c0289>\u001b[0m in \u001b[0;36m<module>\u001b[0;34m\u001b[0m\n\u001b[0;32m----> 1\u001b[0;31m \u001b[0;34m[\u001b[0m\u001b[0mbb_graph\u001b[0m\u001b[0;34m.\u001b[0m\u001b[0mremove_node\u001b[0m\u001b[0;34m(\u001b[0m\u001b[0mnode\u001b[0m\u001b[0;34m)\u001b[0m \u001b[0;32mfor\u001b[0m \u001b[0mnode\u001b[0m \u001b[0;32min\u001b[0m \u001b[0mbig_clique\u001b[0m\u001b[0;34m]\u001b[0m\u001b[0;34m\u001b[0m\u001b[0;34m\u001b[0m\u001b[0m\n\u001b[0m",
      "\u001b[0;32m<ipython-input-171-9ada8e5c0289>\u001b[0m in \u001b[0;36m<listcomp>\u001b[0;34m(.0)\u001b[0m\n\u001b[0;32m----> 1\u001b[0;31m \u001b[0;34m[\u001b[0m\u001b[0mbb_graph\u001b[0m\u001b[0;34m.\u001b[0m\u001b[0mremove_node\u001b[0m\u001b[0;34m(\u001b[0m\u001b[0mnode\u001b[0m\u001b[0;34m)\u001b[0m \u001b[0;32mfor\u001b[0m \u001b[0mnode\u001b[0m \u001b[0;32min\u001b[0m \u001b[0mbig_clique\u001b[0m\u001b[0;34m]\u001b[0m\u001b[0;34m\u001b[0m\u001b[0;34m\u001b[0m\u001b[0m\n\u001b[0m",
      "\u001b[0;32m~/miniconda3/envs/imagens/lib/python3.9/site-packages/networkx/classes/graph.py\u001b[0m in \u001b[0;36mremove_node\u001b[0;34m(self, n)\u001b[0m\n\u001b[1;32m    614\u001b[0m             \u001b[0;32mdel\u001b[0m \u001b[0mself\u001b[0m\u001b[0;34m.\u001b[0m\u001b[0m_node\u001b[0m\u001b[0;34m[\u001b[0m\u001b[0mn\u001b[0m\u001b[0;34m]\u001b[0m\u001b[0;34m\u001b[0m\u001b[0;34m\u001b[0m\u001b[0m\n\u001b[1;32m    615\u001b[0m         \u001b[0;32mexcept\u001b[0m \u001b[0mKeyError\u001b[0m \u001b[0;32mas\u001b[0m \u001b[0me\u001b[0m\u001b[0;34m:\u001b[0m  \u001b[0;31m# NetworkXError if n not in self\u001b[0m\u001b[0;34m\u001b[0m\u001b[0;34m\u001b[0m\u001b[0m\n\u001b[0;32m--> 616\u001b[0;31m             \u001b[0;32mraise\u001b[0m \u001b[0mNetworkXError\u001b[0m\u001b[0;34m(\u001b[0m\u001b[0;34mf\"The node {n} is not in the graph.\"\u001b[0m\u001b[0;34m)\u001b[0m \u001b[0;32mfrom\u001b[0m \u001b[0me\u001b[0m\u001b[0;34m\u001b[0m\u001b[0;34m\u001b[0m\u001b[0m\n\u001b[0m\u001b[1;32m    617\u001b[0m         \u001b[0;32mfor\u001b[0m \u001b[0mu\u001b[0m \u001b[0;32min\u001b[0m \u001b[0mnbrs\u001b[0m\u001b[0;34m:\u001b[0m\u001b[0;34m\u001b[0m\u001b[0;34m\u001b[0m\u001b[0m\n\u001b[1;32m    618\u001b[0m             \u001b[0;32mdel\u001b[0m \u001b[0madj\u001b[0m\u001b[0;34m[\u001b[0m\u001b[0mu\u001b[0m\u001b[0;34m]\u001b[0m\u001b[0;34m[\u001b[0m\u001b[0mn\u001b[0m\u001b[0;34m]\u001b[0m  \u001b[0;31m# remove all edges n-u in graph\u001b[0m\u001b[0;34m\u001b[0m\u001b[0;34m\u001b[0m\u001b[0m\n",
      "\u001b[0;31mNetworkXError\u001b[0m: The node 6 is not in the graph."
     ]
    }
   ],
   "source": [
    "[bb_graph.remove_node(node) for node in big_clique]"
   ]
  },
  {
   "cell_type": "code",
   "execution_count": 172,
   "metadata": {},
   "outputs": [
    {
     "data": {
      "text/plain": "{0: Text(27.0, 28.639, '0'),\n 1: Text(117.0, 73.639, '1'),\n 2: Text(188.21, 63.0, '2'),\n 5: Text(45.0, 99.0, '5'),\n 7: Text(98.21, 18.0, '7')}"
     },
     "execution_count": 172,
     "metadata": {},
     "output_type": "execute_result"
    },
    {
     "data": {
      "image/png": "[encoded data removed]",
      "text/plain": "<Figure size 432x288 with 1 Axes>"
     },
     "metadata": {},
     "output_type": "display_data"
    }
   ],
   "source": [
    "from networkx.drawing.nx_agraph import graphviz_layout\n",
    "import matplotlib.pyplot as plt\n",
    "\n",
    "pos = graphviz_layout(bb_graph)\n",
    "plt.axis('off')\n",
    "nx.draw_networkx_nodes(bb_graph,pos,node_color='g',alpha = 0.8)  # draws nodes\n",
    "nx.draw_networkx_edges(bb_graph,pos,edge_color='b',alpha = 0.6)  # draws edges\n",
    "nx.draw_networkx_edge_labels(bb_graph,pos,edge_labels = nx.get_edge_attributes(bb_graph,'weight')) # edge lables\n",
    "nx.draw_networkx_labels(bb_graph,pos) # node lables"
   ]
  },
  {
   "cell_type": "code",
   "execution_count": 4,
   "metadata": {},
   "outputs": [
    {
     "name": "stdout",
     "output_type": "stream",
     "text": [
      "Number of images: 633\n",
      "Number of images with boxes: 5\n",
      "Number of cropped images: 24\n"
     ]
    }
   ],
   "source": [
    "augmented_count = 0\n",
    "image_count = 0\n",
    "print(\"Number of images: {}\".format(len(image_list)))\n",
    "for im in image_list[0:5]:\n",
    "    count = 0\n",
    "    image_name = im\n",
    "    #print(image_name)\n",
    "    image, bbs = open_yolo(image_name, label_path)\n",
    "    # if the image or the label file doesn't exist, skip this iteration\n",
    "    if((image is None) or (bbs is None)):\n",
    "        continue\n",
    "    image_count += 1\n",
    "    shape = image.shape\n",
    "    width = shape[1]\n",
    "    height = shape[0]\n",
    "    h_factor = height//480\n",
    "    w_factor = width//640    \n",
    "\n",
    "    xs = [calculate_position(i, w_factor) for i in range(0, w_factor)]\n",
    "    ys = [calculate_position(j, h_factor) for j in range(0, h_factor)]\n",
    "    for y, x in product(xs, ys):\n",
    "        # position tuple: left-right, low-high ranging from 0.0 to 1.0\n",
    "        # only boxes with 40% or more inside the crop are kept\n",
    "        seq = iaa.Sequential([iaa.CropToFixedSize(width=640, height=480, position=(x, y)),\n",
    "                              ])\n",
    "        image_aug, bbs_aug = seq(image=image, bounding_boxes=bbs)\n",
    "        bbs_aug = bbs_aug.remove_out_of_image().clip_out_of_image()\n",
    "\n",
    "        #before_image = bbs.draw_on_image(image, size=2)\n",
    "        #after_image = bbs_aug.draw_on_image(image_aug, size=2, color=[0, 0, 255])\n",
    "        #ia.ia.show_grid([before_image, after_image], rows=1, cols=2)\n",
    "\n",
    "        bb = bbs_to_bb(bbs_aug, 640, 480)\n",
    "        # we only want to save the image if it has boxes in it\n",
    "        if (len(bb) > 0):\n",
    "            aug_name = image_name.split(\"/\")[-1].split(\".\")[0]\n",
    "            # saving the image\n",
    "            imageio.imwrite(\"./crop_images/\" + aug_name + \"_crop_\" + str(count) + \".jpg\", image_aug)            \n",
    "            #print(aug_name + \"_aug_\" + str(count))\n",
    "            # saving the YOLO bb file\n",
    "            df_bb = pd.DataFrame(bb, columns = [\"label\", \"x\", \"y\", \"w\", \"h\"])\n",
    "            df_bb[\"label\"] = df_bb[\"label\"].astype(int)\n",
    "            save_bb_txt(df_bb, \"./crop_labels/\" + aug_name + \"_crop_\" + str(count) + \".txt\")\n",
    "            augmented_count += 1\n",
    "        count += 1\n",
    "print(\"Number of images with boxes: {}\".format(image_count))\n",
    "print(\"Number of cropped images: {}\".format(augmented_count))"
   ]
  }
 ],
 "metadata": {
  "kernelspec": {
   "display_name": "Python 3",
   "language": "python",
   "name": "python3"
  },
  "language_info": {
   "codemirror_mode": {
    "name": "ipython",
    "version": 3
   },
   "file_extension": ".py",
   "mimetype": "text/x-python",
   "name": "python",
   "nbconvert_exporter": "python",
   "pygments_lexer": "ipython3",
   "version": "3.9.5"
  },
  "orig_nbformat": 2
 },
 "nbformat": 4,
 "nbformat_minor": 2
}